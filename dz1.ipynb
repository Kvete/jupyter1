{
 "cells": [
  {
   "cell_type": "markdown",
   "id": "6f9b8f64",
   "metadata": {},
   "source": [
    "## Task2"
   ]
  },
  {
   "cell_type": "markdown",
   "id": "5268b041",
   "metadata": {},
   "source": [
    "###    На складе лежат разные фрукты в разном количестве. Нужно написать функцию, которая на вход принимает любое количество названий фруктов и их количество, а возвращает общее количество фруктов на складе"
   ]
  },
  {
   "cell_type": "code",
   "execution_count": 1,
   "id": "a92f9fe9",
   "metadata": {},
   "outputs": [],
   "source": [
    "def summ_fruits(**kwargs):\n",
    "    S=0\n",
    "    for key, value in kwargs.items():\n",
    "        S+=value\n",
    "    return S"
   ]
  },
  {
   "cell_type": "code",
   "execution_count": 2,
   "id": "2a55ce37",
   "metadata": {},
   "outputs": [
    {
     "data": {
      "text/plain": [
       "28"
      ]
     },
     "execution_count": 2,
     "metadata": {},
     "output_type": "execute_result"
    }
   ],
   "source": [
    "summ_fruits(apple=10,peach=5,pear=6,banana=7)"
   ]
  },
  {
   "cell_type": "markdown",
   "id": "973680ec",
   "metadata": {},
   "source": [
    "### "
   ]
  },
  {
   "cell_type": "markdown",
   "id": "a1fe9f2f",
   "metadata": {},
   "source": [
    "## Task3"
   ]
  },
  {
   "cell_type": "markdown",
   "id": "21852da2",
   "metadata": {},
   "source": [
    "### Дан список с затратами на рекламу. Но в данных есть ошибки, некоторые затраты имеют отрицательную величину. Удалите такие значения из списка и посчитайте суммарные затраты"
   ]
  },
  {
   "cell_type": "code",
   "execution_count": 3,
   "id": "773e306f",
   "metadata": {},
   "outputs": [],
   "source": [
    "data=[100, 125, -90, 345, 655, -1, 0, 200]"
   ]
  },
  {
   "cell_type": "code",
   "execution_count": 4,
   "id": "5c921194",
   "metadata": {},
   "outputs": [
    {
     "name": "stdout",
     "output_type": "stream",
     "text": [
      "[100, 125, 345, 655, 0, 200]\n"
     ]
    }
   ],
   "source": [
    "new_data=[el for el in data if el>=0]\n",
    "print(new_data)"
   ]
  },
  {
   "cell_type": "code",
   "execution_count": 5,
   "id": "f59e4280",
   "metadata": {},
   "outputs": [
    {
     "name": "stdout",
     "output_type": "stream",
     "text": [
      "1425\n"
     ]
    }
   ],
   "source": [
    "S=0\n",
    "for el in new_data:\n",
    "    S+=el\n",
    "print(S)"
   ]
  },
  {
   "cell_type": "markdown",
   "id": "a6891d1d",
   "metadata": {},
   "source": [
    "## "
   ]
  },
  {
   "cell_type": "markdown",
   "id": "1abdc23d",
   "metadata": {},
   "source": [
    "## Task4\n"
   ]
  },
  {
   "cell_type": "markdown",
   "id": "71b5ac6b",
   "metadata": {},
   "source": [
    "### 4.1 Найдите, какая выручка у компании в ноябре"
   ]
  },
  {
   "cell_type": "code",
   "execution_count": 6,
   "id": "5529148f",
   "metadata": {},
   "outputs": [],
   "source": [
    "date_selling=['2021-09-14', '2021-12-15', '2021-09-08', '2021-12-05', '2021-10-09', '2021-09-30', '2021-12-22', '2021-11-29', '2021-12-24', '2021-11-26', '2021-10-27', '2021-12-18', '2021-11-09', '2021-11-23', '2021-09-27', '2021-10-02', '2021-12-27', '2021-09-20', '2021-12-13', '2021-11-01', '2021-11-09', '2021-12-06', '2021-12-08', '2021-10-09', '2021-10-31', '2021-09-30', '2021-11-09', '2021-12-13', '2021-10-26', '2021-12-09']\n",
    "\n",
    "summ_selling=[1270, 8413, 9028, 3703, 5739, 4095, 295, 4944, 5723, 3701, 4471, 651, 7037, 4274, 6275, 4988, 6930, 2971, 6592, 2004, 2822, 519, 3406, 2732, 5015, 2008, 316, 6333, 5700, 2887]"
   ]
  },
  {
   "cell_type": "code",
   "execution_count": 7,
   "id": "78e42f89",
   "metadata": {},
   "outputs": [
    {
     "data": {
      "text/plain": [
       "[4944, 3701, 7037, 4274, 2004, 2822, 316]"
      ]
     },
     "execution_count": 7,
     "metadata": {},
     "output_type": "execute_result"
    }
   ],
   "source": [
    "summ_november=[summ_selling[i] for i in range(len(date_selling))if date_selling[i].split('-')[1]=='11']\n",
    "summ_november"
   ]
  },
  {
   "cell_type": "code",
   "execution_count": 8,
   "id": "4040858b",
   "metadata": {},
   "outputs": [
    {
     "name": "stdout",
     "output_type": "stream",
     "text": [
      "25098\n"
     ]
    }
   ],
   "source": [
    "S=0\n",
    "for el in summ_november:\n",
    "    S+=el\n",
    "print(S)\n",
    "    "
   ]
  },
  {
   "cell_type": "markdown",
   "id": "04278307",
   "metadata": {},
   "source": [
    "### 4.2 Найдите выручку компании в зависимости от месяца"
   ]
  },
  {
   "cell_type": "code",
   "execution_count": 9,
   "id": "34a6f98a",
   "metadata": {},
   "outputs": [],
   "source": [
    "def selling_months(date:list,selling:list)->dict:\n",
    "    final_dict={date_selling[i].split('-')[1]:0 for i in range(len(date_selling))}\n",
    "    for key in final_dict:\n",
    "        for i in range(len(summ_selling)):\n",
    "            if date_selling[i].split('-')[1]==key:\n",
    "                final_dict[key]+=summ_selling[i]\n",
    "        \n",
    "        \n",
    "    return final_dict"
   ]
  },
  {
   "cell_type": "code",
   "execution_count": 10,
   "id": "179f2d23",
   "metadata": {},
   "outputs": [
    {
     "data": {
      "text/plain": [
       "{'09': 25647, '12': 45452, '10': 28645, '11': 25098}"
      ]
     },
     "execution_count": 10,
     "metadata": {},
     "output_type": "execute_result"
    }
   ],
   "source": [
    "selling_months(date_selling,summ_selling)"
   ]
  }
 ],
 "metadata": {
  "kernelspec": {
   "display_name": "Python 3 (ipykernel)",
   "language": "python",
   "name": "python3"
  },
  "language_info": {
   "codemirror_mode": {
    "name": "ipython",
    "version": 3
   },
   "file_extension": ".py",
   "mimetype": "text/x-python",
   "name": "python",
   "nbconvert_exporter": "python",
   "pygments_lexer": "ipython3",
   "version": "3.10.10"
  }
 },
 "nbformat": 4,
 "nbformat_minor": 5
}
